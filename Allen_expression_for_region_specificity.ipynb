{
 "cells": [
  {
   "cell_type": "markdown",
   "metadata": {},
   "source": [
    "- Normalize microarray expression for each of 6 donors to perform AUROC for gene lists individually on each donor\n",
    "- Get CHAT expression across sampled brain structures in each donor\n",
    "- Output values to csv file to generate plot in R"
   ]
  },
  {
   "cell_type": "code",
   "execution_count": 1,
   "metadata": {},
   "outputs": [],
   "source": [
    "from pathlib import Path\n",
    "import pandas as pd\n",
    "import data_processing as data\n",
    "import analysis"
   ]
  },
  {
   "cell_type": "code",
   "execution_count": 2,
   "metadata": {},
   "outputs": [
    {
     "name": "stdout",
     "output_type": "stream",
     "text": [
      "Processed HBA brain dataset found locally. Loading from data/processed_HBA/adult_brainarea_vs_genes_exp_default_donors_10021-9861-14380-15697-15496-12876.tsv\n"
     ]
    }
   ],
   "source": [
    "all_donors = data.get_dataset(dataset='adult')"
   ]
  },
  {
   "cell_type": "code",
   "execution_count": 3,
   "metadata": {},
   "outputs": [
    {
     "data": {
      "text/plain": [
       "(20778, 232)"
      ]
     },
     "execution_count": 3,
     "metadata": {},
     "output_type": "execute_result"
    }
   ],
   "source": [
    "all_donors.shape"
   ]
  },
  {
   "cell_type": "code",
   "execution_count": 4,
   "metadata": {},
   "outputs": [
    {
     "name": "stdout",
     "output_type": "stream",
     "text": [
      "(942,)\n"
     ]
    }
   ],
   "source": [
    "pg_pd_genes = pd.read_csv('./results/Supplement Table 4 -genewise_pg_pd_controls.descriptions.csv')\n",
    "pg_pd_genes = pg_pd_genes[(pg_pd_genes['p.adjust'] <= 0.05) & (pg_pd_genes['signed_log_p'] > 0)].gene_symbol\n",
    "print(pg_pd_genes.shape)"
   ]
  },
  {
   "cell_type": "code",
   "execution_count": 5,
   "metadata": {},
   "outputs": [
    {
     "name": "stdout",
     "output_type": "stream",
     "text": [
      "(92,)\n"
     ]
    }
   ],
   "source": [
    "srp_genes = pd.read_csv('./data/gene_lists/SRP_list.txt', header=None, names=['gene_symbol'])\n",
    "srp_genes = srp_genes.loc[:, 'gene_symbol']\n",
    "print(srp_genes.shape)"
   ]
  },
  {
   "cell_type": "code",
   "execution_count": 6,
   "metadata": {},
   "outputs": [
    {
     "name": "stdout",
     "output_type": "stream",
     "text": [
      "You submitted a gene list with 942 genes.\n",
      "    933 of those genes are present in the reference dataset.\n",
      "    Genes not found in our reference data: ['FKBP1C' 'PRG4' 'CBWD2' 'TVP23B' 'CBWD3' 'ZNF487' 'BLOC1S5-TXNDC5'\n",
      " 'FPGT-TNNI3K' 'PPP5D1']\n"
     ]
    }
   ],
   "source": [
    "all_donors_pg_results = analysis.generate_stats_table(exp_df=all_donors, gene_list=pg_pd_genes)"
   ]
  },
  {
   "cell_type": "code",
   "execution_count": 7,
   "metadata": {},
   "outputs": [
    {
     "data": {
      "text/html": [
       "<div>\n",
       "<style scoped>\n",
       "    .dataframe tbody tr th:only-of-type {\n",
       "        vertical-align: middle;\n",
       "    }\n",
       "\n",
       "    .dataframe tbody tr th {\n",
       "        vertical-align: top;\n",
       "    }\n",
       "\n",
       "    .dataframe thead th {\n",
       "        text-align: right;\n",
       "    }\n",
       "</style>\n",
       "<table border=\"1\" class=\"dataframe\">\n",
       "  <thead>\n",
       "    <tr style=\"text-align: right;\">\n",
       "      <th></th>\n",
       "      <th>AUROC</th>\n",
       "      <th>p</th>\n",
       "      <th>pFDR</th>\n",
       "    </tr>\n",
       "  </thead>\n",
       "  <tbody>\n",
       "    <tr>\n",
       "      <td>anterior hypothalamic area</td>\n",
       "      <td>0.739733</td>\n",
       "      <td>1.155614e-135</td>\n",
       "      <td>2.681025e-133</td>\n",
       "    </tr>\n",
       "    <tr>\n",
       "      <td>medial habenular nucleus</td>\n",
       "      <td>0.702390</td>\n",
       "      <td>2.961983e-97</td>\n",
       "      <td>3.435901e-95</td>\n",
       "    </tr>\n",
       "    <tr>\n",
       "      <td>paraventricular nucleus of the hypothalamus</td>\n",
       "      <td>0.684406</td>\n",
       "      <td>4.598737e-81</td>\n",
       "      <td>3.556357e-79</td>\n",
       "    </tr>\n",
       "    <tr>\n",
       "      <td>lateral hypothalamic area, anterior region</td>\n",
       "      <td>0.682527</td>\n",
       "      <td>1.854758e-79</td>\n",
       "      <td>1.075760e-77</td>\n",
       "    </tr>\n",
       "    <tr>\n",
       "      <td>septal nuclei</td>\n",
       "      <td>0.681902</td>\n",
       "      <td>6.284889e-79</td>\n",
       "      <td>2.916188e-77</td>\n",
       "    </tr>\n",
       "    <tr>\n",
       "      <td>substantia innominata</td>\n",
       "      <td>0.679362</td>\n",
       "      <td>8.616503e-77</td>\n",
       "      <td>3.331715e-75</td>\n",
       "    </tr>\n",
       "    <tr>\n",
       "      <td>central gray of the pons</td>\n",
       "      <td>0.674949</td>\n",
       "      <td>3.771257e-73</td>\n",
       "      <td>1.249902e-71</td>\n",
       "    </tr>\n",
       "    <tr>\n",
       "      <td>midbrain reticular formation</td>\n",
       "      <td>0.671565</td>\n",
       "      <td>2.028784e-70</td>\n",
       "      <td>5.883472e-69</td>\n",
       "    </tr>\n",
       "    <tr>\n",
       "      <td>paraventricular nuclei, right of thalamus</td>\n",
       "      <td>0.657622</td>\n",
       "      <td>1.003414e-59</td>\n",
       "      <td>2.586577e-58</td>\n",
       "    </tr>\n",
       "    <tr>\n",
       "      <td>paraventricular nuclei, left of thalamus</td>\n",
       "      <td>0.656119</td>\n",
       "      <td>1.260323e-58</td>\n",
       "      <td>2.923950e-57</td>\n",
       "    </tr>\n",
       "  </tbody>\n",
       "</table>\n",
       "</div>"
      ],
      "text/plain": [
       "                                                AUROC              p  \\\n",
       "anterior hypothalamic area                   0.739733  1.155614e-135   \n",
       "medial habenular nucleus                     0.702390   2.961983e-97   \n",
       "paraventricular nucleus of the hypothalamus  0.684406   4.598737e-81   \n",
       "lateral hypothalamic area, anterior region   0.682527   1.854758e-79   \n",
       "septal nuclei                                0.681902   6.284889e-79   \n",
       "substantia innominata                        0.679362   8.616503e-77   \n",
       "central gray of the pons                     0.674949   3.771257e-73   \n",
       "midbrain reticular formation                 0.671565   2.028784e-70   \n",
       "paraventricular nuclei, right of thalamus    0.657622   1.003414e-59   \n",
       "paraventricular nuclei, left of thalamus     0.656119   1.260323e-58   \n",
       "\n",
       "                                                      pFDR  \n",
       "anterior hypothalamic area                   2.681025e-133  \n",
       "medial habenular nucleus                      3.435901e-95  \n",
       "paraventricular nucleus of the hypothalamus   3.556357e-79  \n",
       "lateral hypothalamic area, anterior region    1.075760e-77  \n",
       "septal nuclei                                 2.916188e-77  \n",
       "substantia innominata                         3.331715e-75  \n",
       "central gray of the pons                      1.249902e-71  \n",
       "midbrain reticular formation                  5.883472e-69  \n",
       "paraventricular nuclei, right of thalamus     2.586577e-58  \n",
       "paraventricular nuclei, left of thalamus      2.923950e-57  "
      ]
     },
     "execution_count": 7,
     "metadata": {},
     "output_type": "execute_result"
    }
   ],
   "source": [
    "all_donors_pg_results.head(10)"
   ]
  },
  {
   "cell_type": "code",
   "execution_count": 8,
   "metadata": {},
   "outputs": [
    {
     "name": "stdout",
     "output_type": "stream",
     "text": [
      "You submitted a gene list with 92 genes.\n",
      "    90 of those genes are present in the reference dataset.\n",
      "    Genes not found in our reference data: ['RPL41' 'RPL18A']\n"
     ]
    }
   ],
   "source": [
    "all_donors_srp_results = analysis.generate_stats_table(exp_df=all_donors, gene_list=srp_genes)"
   ]
  },
  {
   "cell_type": "code",
   "execution_count": 9,
   "metadata": {},
   "outputs": [
    {
     "data": {
      "text/html": [
       "<div>\n",
       "<style scoped>\n",
       "    .dataframe tbody tr th:only-of-type {\n",
       "        vertical-align: middle;\n",
       "    }\n",
       "\n",
       "    .dataframe tbody tr th {\n",
       "        vertical-align: top;\n",
       "    }\n",
       "\n",
       "    .dataframe thead th {\n",
       "        text-align: right;\n",
       "    }\n",
       "</style>\n",
       "<table border=\"1\" class=\"dataframe\">\n",
       "  <thead>\n",
       "    <tr style=\"text-align: right;\">\n",
       "      <th></th>\n",
       "      <th>AUROC</th>\n",
       "      <th>p</th>\n",
       "      <th>pFDR</th>\n",
       "    </tr>\n",
       "  </thead>\n",
       "  <tbody>\n",
       "    <tr>\n",
       "      <td>substantia innominata</td>\n",
       "      <td>0.845562</td>\n",
       "      <td>9.169896e-30</td>\n",
       "      <td>3.039166e-28</td>\n",
       "    </tr>\n",
       "    <tr>\n",
       "      <td>globus pallidus, external segment</td>\n",
       "      <td>0.805942</td>\n",
       "      <td>1.099931e-23</td>\n",
       "      <td>1.962954e-22</td>\n",
       "    </tr>\n",
       "    <tr>\n",
       "      <td>globus pallidus, internal segment</td>\n",
       "      <td>0.802411</td>\n",
       "      <td>3.531149e-23</td>\n",
       "      <td>5.749084e-22</td>\n",
       "    </tr>\n",
       "    <tr>\n",
       "      <td>substantia nigra, pars reticulata</td>\n",
       "      <td>0.798783</td>\n",
       "      <td>1.154324e-22</td>\n",
       "      <td>1.673770e-21</td>\n",
       "    </tr>\n",
       "    <tr>\n",
       "      <td>septal nuclei</td>\n",
       "      <td>0.792818</td>\n",
       "      <td>7.851016e-22</td>\n",
       "      <td>1.011909e-20</td>\n",
       "    </tr>\n",
       "    <tr>\n",
       "      <td>nucleus accumbens</td>\n",
       "      <td>0.790416</td>\n",
       "      <td>1.680773e-21</td>\n",
       "      <td>2.052312e-20</td>\n",
       "    </tr>\n",
       "    <tr>\n",
       "      <td>subcallosal cingulate gyrus</td>\n",
       "      <td>0.778955</td>\n",
       "      <td>5.837755e-20</td>\n",
       "      <td>6.449330e-19</td>\n",
       "    </tr>\n",
       "    <tr>\n",
       "      <td>head of caudate nucleus</td>\n",
       "      <td>0.773948</td>\n",
       "      <td>2.632400e-19</td>\n",
       "      <td>2.544653e-18</td>\n",
       "    </tr>\n",
       "    <tr>\n",
       "      <td>central gray of the pons</td>\n",
       "      <td>0.773310</td>\n",
       "      <td>3.182744e-19</td>\n",
       "      <td>2.953586e-18</td>\n",
       "    </tr>\n",
       "    <tr>\n",
       "      <td>medial parabrachial nucleus</td>\n",
       "      <td>0.771382</td>\n",
       "      <td>5.636688e-19</td>\n",
       "      <td>5.029660e-18</td>\n",
       "    </tr>\n",
       "  </tbody>\n",
       "</table>\n",
       "</div>"
      ],
      "text/plain": [
       "                                      AUROC             p          pFDR\n",
       "substantia innominata              0.845562  9.169896e-30  3.039166e-28\n",
       "globus pallidus, external segment  0.805942  1.099931e-23  1.962954e-22\n",
       "globus pallidus, internal segment  0.802411  3.531149e-23  5.749084e-22\n",
       "substantia nigra, pars reticulata  0.798783  1.154324e-22  1.673770e-21\n",
       "septal nuclei                      0.792818  7.851016e-22  1.011909e-20\n",
       "nucleus accumbens                  0.790416  1.680773e-21  2.052312e-20\n",
       "subcallosal cingulate gyrus        0.778955  5.837755e-20  6.449330e-19\n",
       "head of caudate nucleus            0.773948  2.632400e-19  2.544653e-18\n",
       "central gray of the pons           0.773310  3.182744e-19  2.953586e-18\n",
       "medial parabrachial nucleus        0.771382  5.636688e-19  5.029660e-18"
      ]
     },
     "execution_count": 9,
     "metadata": {},
     "output_type": "execute_result"
    }
   ],
   "source": [
    "all_donors_srp_results.head(10)"
   ]
  },
  {
   "cell_type": "code",
   "execution_count": 10,
   "metadata": {},
   "outputs": [],
   "source": [
    "microarray_results = Path('./results/microarray')\n",
    "microarray_results.mkdir(exist_ok=True)"
   ]
  },
  {
   "cell_type": "code",
   "execution_count": 11,
   "metadata": {},
   "outputs": [],
   "source": [
    "all_donors_pg_results.to_csv(microarray_results / 'pg_pd_six_brains_regional_enrichment.csv')\n",
    "all_donors_srp_results.to_csv(microarray_results / 'srp_six_brains_regional_enrichment.csv')"
   ]
  },
  {
   "cell_type": "markdown",
   "metadata": {},
   "source": [
    "### Process each donor separately"
   ]
  },
  {
   "cell_type": "code",
   "execution_count": 12,
   "metadata": {},
   "outputs": [],
   "source": [
    "donor_ids = ['10021', '9861', '14380', '15697', '15496', '12876']"
   ]
  },
  {
   "cell_type": "code",
   "execution_count": 13,
   "metadata": {},
   "outputs": [
    {
     "name": "stdout",
     "output_type": "stream",
     "text": [
      "Processed HBA brain dataset found locally. Loading from data/processed_HBA/adult_brainarea_vs_genes_exp_default_donors_9861.tsv\n",
      "Processed HBA brain dataset found locally. Loading from data/processed_HBA/adult_brainarea_vs_genes_exp_default_donors_10021.tsv\n",
      "Processed HBA brain dataset found locally. Loading from data/processed_HBA/adult_brainarea_vs_genes_exp_default_donors_12876.tsv\n",
      "Processed HBA brain dataset found locally. Loading from data/processed_HBA/adult_brainarea_vs_genes_exp_default_donors_14380.tsv\n",
      "Processed HBA brain dataset found locally. Loading from data/processed_HBA/adult_brainarea_vs_genes_exp_default_donors_15496.tsv\n",
      "Processed HBA brain dataset found locally. Loading from data/processed_HBA/adult_brainarea_vs_genes_exp_default_donors_15697.tsv\n"
     ]
    }
   ],
   "source": [
    "donor_9861 = data.get_dataset(dataset='adult', selected_donor_ids=['9861'])\n",
    "donor_10021 = data.get_dataset(dataset='adult', selected_donor_ids=['10021'])\n",
    "donor_12876 = data.get_dataset(dataset='adult', selected_donor_ids=['12876'])\n",
    "donor_14380 = data.get_dataset(dataset='adult', selected_donor_ids=['14380'])\n",
    "donor_15496 = data.get_dataset(dataset='adult', selected_donor_ids=['15496'])\n",
    "donor_15697 = data.get_dataset(dataset='adult', selected_donor_ids=['15697'])"
   ]
  },
  {
   "cell_type": "code",
   "execution_count": 14,
   "metadata": {},
   "outputs": [
    {
     "name": "stdout",
     "output_type": "stream",
     "text": [
      "Processing donor #1\n",
      "Donor directory: data/raw/allen_HBA/normalized_microarray_donor9861\n",
      "Donor ID: normalized_microarray_donor9861\n",
      "probes_file: data/raw/allen_HBA/normalized_microarray_donor9861/Probes.csv\n",
      "cols: Index(['probe_id', 'probe_name', 'gene_symbol'], dtype='object')\n",
      "probes shape: (58692, 3)\n",
      "probes shape after filter: (48170, 3)\n",
      "-----\n",
      "Processing donor #1\n",
      "Donor directory: data/raw/allen_HBA/normalized_microarray_donor10021\n",
      "Donor ID: normalized_microarray_donor10021\n",
      "probes_file: data/raw/allen_HBA/normalized_microarray_donor10021/Probes.csv\n",
      "cols: Index(['probe_id', 'probe_name', 'gene_symbol'], dtype='object')\n",
      "probes shape: (58692, 3)\n",
      "probes shape after filter: (48170, 3)\n",
      "-----\n",
      "Processing donor #1\n",
      "Donor directory: data/raw/allen_HBA/normalized_microarray_donor12876\n",
      "Donor ID: normalized_microarray_donor12876\n",
      "probes_file: data/raw/allen_HBA/normalized_microarray_donor12876/Probes.csv\n",
      "cols: Index(['probe_id', 'probe_name', 'gene_symbol'], dtype='object')\n",
      "probes shape: (58692, 3)\n",
      "probes shape after filter: (48170, 3)\n",
      "-----\n",
      "Processing donor #1\n",
      "Donor directory: data/raw/allen_HBA/normalized_microarray_donor14380\n",
      "Donor ID: normalized_microarray_donor14380\n",
      "probes_file: data/raw/allen_HBA/normalized_microarray_donor14380/Probes.csv\n",
      "cols: Index(['probe_id', 'probe_name', 'gene_symbol'], dtype='object')\n",
      "probes shape: (58692, 3)\n",
      "probes shape after filter: (48170, 3)\n",
      "-----\n",
      "Processing donor #1\n",
      "Donor directory: data/raw/allen_HBA/normalized_microarray_donor15496\n",
      "Donor ID: normalized_microarray_donor15496\n",
      "probes_file: data/raw/allen_HBA/normalized_microarray_donor15496/Probes.csv\n",
      "cols: Index(['probe_id', 'probe_name', 'gene_symbol'], dtype='object')\n",
      "probes shape: (58692, 3)\n",
      "probes shape after filter: (48170, 3)\n",
      "-----\n",
      "Processing donor #1\n",
      "Donor directory: data/raw/allen_HBA/normalized_microarray_donor15697\n",
      "Donor ID: normalized_microarray_donor15697\n",
      "probes_file: data/raw/allen_HBA/normalized_microarray_donor15697/Probes.csv\n",
      "cols: Index(['probe_id', 'probe_name', 'gene_symbol'], dtype='object')\n",
      "probes shape: (58692, 3)\n",
      "probes shape after filter: (48170, 3)\n",
      "-----\n"
     ]
    }
   ],
   "source": [
    "CHAT_9861 = data.generate_aggregate_data(donor_ids=['9861']).loc['CHAT']\n",
    "CHAT_10021 = data.generate_aggregate_data(donor_ids=['10021']).loc['CHAT']\n",
    "CHAT_12876 = data.generate_aggregate_data(donor_ids=['12876']).loc['CHAT']\n",
    "CHAT_14380 = data.generate_aggregate_data(donor_ids=['14380']).loc['CHAT']\n",
    "CHAT_15496 = data.generate_aggregate_data(donor_ids=['15496']).loc['CHAT']\n",
    "CHAT_15697 = data.generate_aggregate_data(donor_ids=['15697']).loc['CHAT']"
   ]
  },
  {
   "cell_type": "code",
   "execution_count": 15,
   "metadata": {},
   "outputs": [
    {
     "name": "stdout",
     "output_type": "stream",
     "text": [
      "Processing donor #1\n",
      "Donor directory: data/raw/allen_HBA/normalized_microarray_donor9861\n",
      "Donor ID: normalized_microarray_donor9861\n",
      "probes_file: data/raw/allen_HBA/normalized_microarray_donor9861/Probes.csv\n",
      "cols: Index(['probe_id', 'probe_name', 'gene_symbol'], dtype='object')\n",
      "probes shape: (58692, 3)\n",
      "probes shape after filter: (48170, 3)\n",
      "-----\n",
      "Processing donor #1\n",
      "Donor directory: data/raw/allen_HBA/normalized_microarray_donor10021\n",
      "Donor ID: normalized_microarray_donor10021\n",
      "probes_file: data/raw/allen_HBA/normalized_microarray_donor10021/Probes.csv\n",
      "cols: Index(['probe_id', 'probe_name', 'gene_symbol'], dtype='object')\n",
      "probes shape: (58692, 3)\n",
      "probes shape after filter: (48170, 3)\n",
      "-----\n",
      "Processing donor #1\n",
      "Donor directory: data/raw/allen_HBA/normalized_microarray_donor12876\n",
      "Donor ID: normalized_microarray_donor12876\n",
      "probes_file: data/raw/allen_HBA/normalized_microarray_donor12876/Probes.csv\n",
      "cols: Index(['probe_id', 'probe_name', 'gene_symbol'], dtype='object')\n",
      "probes shape: (58692, 3)\n",
      "probes shape after filter: (48170, 3)\n",
      "-----\n",
      "Processing donor #1\n",
      "Donor directory: data/raw/allen_HBA/normalized_microarray_donor14380\n",
      "Donor ID: normalized_microarray_donor14380\n",
      "probes_file: data/raw/allen_HBA/normalized_microarray_donor14380/Probes.csv\n",
      "cols: Index(['probe_id', 'probe_name', 'gene_symbol'], dtype='object')\n",
      "probes shape: (58692, 3)\n",
      "probes shape after filter: (48170, 3)\n",
      "-----\n",
      "Processing donor #1\n",
      "Donor directory: data/raw/allen_HBA/normalized_microarray_donor15496\n",
      "Donor ID: normalized_microarray_donor15496\n",
      "probes_file: data/raw/allen_HBA/normalized_microarray_donor15496/Probes.csv\n",
      "cols: Index(['probe_id', 'probe_name', 'gene_symbol'], dtype='object')\n",
      "probes shape: (58692, 3)\n",
      "probes shape after filter: (48170, 3)\n",
      "-----\n",
      "Processing donor #1\n",
      "Donor directory: data/raw/allen_HBA/normalized_microarray_donor15697\n",
      "Donor ID: normalized_microarray_donor15697\n",
      "probes_file: data/raw/allen_HBA/normalized_microarray_donor15697/Probes.csv\n",
      "cols: Index(['probe_id', 'probe_name', 'gene_symbol'], dtype='object')\n",
      "probes shape: (58692, 3)\n",
      "probes shape after filter: (48170, 3)\n",
      "-----\n"
     ]
    }
   ],
   "source": [
    "AVP_9861 = data.generate_aggregate_data(donor_ids=['9861']).loc['AVP']\n",
    "AVP_10021 = data.generate_aggregate_data(donor_ids=['10021']).loc['AVP']\n",
    "AVP_12876 = data.generate_aggregate_data(donor_ids=['12876']).loc['AVP']\n",
    "AVP_14380 = data.generate_aggregate_data(donor_ids=['14380']).loc['AVP']\n",
    "AVP_15496 = data.generate_aggregate_data(donor_ids=['15496']).loc['AVP']\n",
    "AVP_15697 = data.generate_aggregate_data(donor_ids=['15697']).loc['AVP']"
   ]
  },
  {
   "cell_type": "code",
   "execution_count": 16,
   "metadata": {},
   "outputs": [],
   "source": [
    "individual_donors = [donor_9861, donor_10021, donor_12876, donor_14380, donor_15496, donor_15697]\n",
    "CHAT_donors = [CHAT_9861, CHAT_10021, CHAT_12876, CHAT_14380, CHAT_15496, CHAT_15697]\n",
    "AVP_donors = [AVP_9861, AVP_10021, AVP_12876, AVP_14380, AVP_15496, AVP_15697]\n",
    "donor_ids = ['9861','10021', '12876', '14380', '15496', '15697']"
   ]
  },
  {
   "cell_type": "code",
   "execution_count": 17,
   "metadata": {},
   "outputs": [
    {
     "name": "stdout",
     "output_type": "stream",
     "text": [
      "You submitted a gene list with 92 genes.\n",
      "    90 of those genes are present in the reference dataset.\n",
      "    Genes not found in our reference data: ['RPL41' 'RPL18A']\n",
      "You submitted a gene list with 942 genes.\n",
      "    933 of those genes are present in the reference dataset.\n",
      "    Genes not found in our reference data: ['FKBP1C' 'PRG4' 'CBWD2' 'TVP23B' 'CBWD3' 'ZNF487' 'BLOC1S5-TXNDC5'\n",
      " 'FPGT-TNNI3K' 'PPP5D1']\n",
      "You submitted a gene list with 92 genes.\n",
      "    90 of those genes are present in the reference dataset.\n",
      "    Genes not found in our reference data: ['RPL41' 'RPL18A']\n",
      "You submitted a gene list with 942 genes.\n",
      "    933 of those genes are present in the reference dataset.\n",
      "    Genes not found in our reference data: ['FKBP1C' 'PRG4' 'CBWD2' 'TVP23B' 'CBWD3' 'ZNF487' 'BLOC1S5-TXNDC5'\n",
      " 'FPGT-TNNI3K' 'PPP5D1']\n",
      "You submitted a gene list with 92 genes.\n",
      "    90 of those genes are present in the reference dataset.\n",
      "    Genes not found in our reference data: ['RPL41' 'RPL18A']\n",
      "You submitted a gene list with 942 genes.\n",
      "    933 of those genes are present in the reference dataset.\n",
      "    Genes not found in our reference data: ['FKBP1C' 'PRG4' 'CBWD2' 'TVP23B' 'CBWD3' 'ZNF487' 'BLOC1S5-TXNDC5'\n",
      " 'FPGT-TNNI3K' 'PPP5D1']\n",
      "You submitted a gene list with 92 genes.\n",
      "    90 of those genes are present in the reference dataset.\n",
      "    Genes not found in our reference data: ['RPL41' 'RPL18A']\n",
      "You submitted a gene list with 942 genes.\n",
      "    933 of those genes are present in the reference dataset.\n",
      "    Genes not found in our reference data: ['FKBP1C' 'PRG4' 'CBWD2' 'TVP23B' 'CBWD3' 'ZNF487' 'BLOC1S5-TXNDC5'\n",
      " 'FPGT-TNNI3K' 'PPP5D1']\n",
      "You submitted a gene list with 92 genes.\n",
      "    90 of those genes are present in the reference dataset.\n",
      "    Genes not found in our reference data: ['RPL41' 'RPL18A']\n",
      "You submitted a gene list with 942 genes.\n",
      "    933 of those genes are present in the reference dataset.\n",
      "    Genes not found in our reference data: ['FKBP1C' 'PRG4' 'CBWD2' 'TVP23B' 'CBWD3' 'ZNF487' 'BLOC1S5-TXNDC5'\n",
      " 'FPGT-TNNI3K' 'PPP5D1']\n",
      "You submitted a gene list with 92 genes.\n",
      "    90 of those genes are present in the reference dataset.\n",
      "    Genes not found in our reference data: ['RPL41' 'RPL18A']\n",
      "You submitted a gene list with 942 genes.\n",
      "    933 of those genes are present in the reference dataset.\n",
      "    Genes not found in our reference data: ['FKBP1C' 'PRG4' 'CBWD2' 'TVP23B' 'CBWD3' 'ZNF487' 'BLOC1S5-TXNDC5'\n",
      " 'FPGT-TNNI3K' 'PPP5D1']\n"
     ]
    }
   ],
   "source": [
    "srp_results = {}\n",
    "pg_pd_results = {}\n",
    "chat_dfs = []\n",
    "avp_dfs = []\n",
    "\n",
    "for donor_id, donor, chat_exp, avp_exp in zip(donor_ids, individual_donors, CHAT_donors, AVP_donors):\n",
    "    srp_results[donor_id] = analysis.generate_stats_table(exp_df=donor, gene_list=srp_genes)\n",
    "    srp_results[donor_id]['rank'] = srp_results[donor_id].AUROC.rank(ascending=False)\n",
    "    \n",
    "    pg_pd_results[donor_id] = analysis.generate_stats_table(exp_df=donor, gene_list=pg_pd_genes)\n",
    "    pg_pd_results[donor_id]['rank'] = pg_pd_results[donor_id].AUROC.rank(ascending=False)\n",
    "    \n",
    "    chat_exp = chat_exp.reset_index()\n",
    "    chat_exp['donor_id'] = donor_id\n",
    "    chat_dfs.append(chat_exp)\n",
    "    \n",
    "    avp_exp = avp_exp.reset_index()\n",
    "    avp_exp['donor_id'] = donor_id\n",
    "    avp_dfs.append(avp_exp)  "
   ]
  },
  {
   "cell_type": "code",
   "execution_count": 18,
   "metadata": {},
   "outputs": [],
   "source": [
    "srp_table = pd.concat(srp_results)\n",
    "pg_pd_table = pd.concat(pg_pd_results)\n",
    "chat_table = pd.concat(chat_dfs)\n",
    "avp_table = pd.concat(avp_dfs)"
   ]
  },
  {
   "cell_type": "code",
   "execution_count": 19,
   "metadata": {},
   "outputs": [],
   "source": [
    "srp_table = srp_table.rename_axis(['donor', 'brain_structure']).reset_index()\n",
    "srp_table = srp_table.rename(columns={'AUROC': 'srp_AUC'}).loc[:, ['brain_structure', 'srp_AUC', 'donor']]\n",
    "\n",
    "pg_pd_table = pg_pd_table.rename_axis(['donor', 'brain_structure']).reset_index()\n",
    "pg_pd_table = pg_pd_table.rename(columns={'AUROC': 'pg_pd_AUC'}).loc[:, ['brain_structure', 'pg_pd_AUC', 'donor']]\n",
    "\n",
    "chat_table = chat_table.rename(columns={'structure_name': 'brain_structure', 'donor_id': 'donor'})\n",
    "avp_table = avp_table.rename(columns={'structure_name': 'brain_structure', 'donor_id': 'donor'})"
   ]
  },
  {
   "cell_type": "markdown",
   "metadata": {},
   "source": [
    "### Top 5 ranked brain structures for SRP enrichment for each donor"
   ]
  },
  {
   "cell_type": "code",
   "execution_count": 20,
   "metadata": {
    "scrolled": true
   },
   "outputs": [
    {
     "data": {
      "text/html": [
       "<div>\n",
       "<style scoped>\n",
       "    .dataframe tbody tr th:only-of-type {\n",
       "        vertical-align: middle;\n",
       "    }\n",
       "\n",
       "    .dataframe tbody tr th {\n",
       "        vertical-align: top;\n",
       "    }\n",
       "\n",
       "    .dataframe thead th {\n",
       "        text-align: right;\n",
       "    }\n",
       "</style>\n",
       "<table border=\"1\" class=\"dataframe\">\n",
       "  <thead>\n",
       "    <tr style=\"text-align: right;\">\n",
       "      <th></th>\n",
       "      <th></th>\n",
       "      <th>srp_AUC</th>\n",
       "    </tr>\n",
       "    <tr>\n",
       "      <th>donor</th>\n",
       "      <th>brain_structure</th>\n",
       "      <th></th>\n",
       "    </tr>\n",
       "  </thead>\n",
       "  <tbody>\n",
       "    <tr>\n",
       "      <td rowspan=\"5\" valign=\"top\">10021</td>\n",
       "      <td>globus pallidus, internal segment</td>\n",
       "      <td>0.816636</td>\n",
       "    </tr>\n",
       "    <tr>\n",
       "      <td>nucleus accumbens</td>\n",
       "      <td>0.807766</td>\n",
       "    </tr>\n",
       "    <tr>\n",
       "      <td>globus pallidus, external segment</td>\n",
       "      <td>0.805614</td>\n",
       "    </tr>\n",
       "    <tr>\n",
       "      <td>central gray of the pons</td>\n",
       "      <td>0.798475</td>\n",
       "    </tr>\n",
       "    <tr>\n",
       "      <td>amygdalohippocampal transition zone</td>\n",
       "      <td>0.780361</td>\n",
       "    </tr>\n",
       "    <tr>\n",
       "      <td rowspan=\"5\" valign=\"top\">12876</td>\n",
       "      <td>subcallosal cingulate gyrus</td>\n",
       "      <td>0.856285</td>\n",
       "    </tr>\n",
       "    <tr>\n",
       "      <td>inferior temporal gyrus, lateral bank of gyrus</td>\n",
       "      <td>0.839341</td>\n",
       "    </tr>\n",
       "    <tr>\n",
       "      <td>globus pallidus, external segment</td>\n",
       "      <td>0.819633</td>\n",
       "    </tr>\n",
       "    <tr>\n",
       "      <td>cingulate gyrus, frontal part, inferior bank of gyrus</td>\n",
       "      <td>0.812955</td>\n",
       "    </tr>\n",
       "    <tr>\n",
       "      <td>frontal operculum</td>\n",
       "      <td>0.761664</td>\n",
       "    </tr>\n",
       "    <tr>\n",
       "      <td rowspan=\"5\" valign=\"top\">14380</td>\n",
       "      <td>IV, lateral hemisphere</td>\n",
       "      <td>0.817317</td>\n",
       "    </tr>\n",
       "    <tr>\n",
       "      <td>parahippocampal gyrus, lateral bank of gyrus</td>\n",
       "      <td>0.784470</td>\n",
       "    </tr>\n",
       "    <tr>\n",
       "      <td>globus pallidus, internal segment</td>\n",
       "      <td>0.774372</td>\n",
       "    </tr>\n",
       "    <tr>\n",
       "      <td>X, lateral hemisphere</td>\n",
       "      <td>0.763619</td>\n",
       "    </tr>\n",
       "    <tr>\n",
       "      <td>olfactory tubercle</td>\n",
       "      <td>0.761251</td>\n",
       "    </tr>\n",
       "    <tr>\n",
       "      <td rowspan=\"5\" valign=\"top\">15496</td>\n",
       "      <td>substantia nigra, pars reticulata</td>\n",
       "      <td>0.765551</td>\n",
       "    </tr>\n",
       "    <tr>\n",
       "      <td>medial parabrachial nucleus</td>\n",
       "      <td>0.763989</td>\n",
       "    </tr>\n",
       "    <tr>\n",
       "      <td>VIIIB, paravermis</td>\n",
       "      <td>0.750075</td>\n",
       "    </tr>\n",
       "    <tr>\n",
       "      <td>globus pallidus, external segment</td>\n",
       "      <td>0.744207</td>\n",
       "    </tr>\n",
       "    <tr>\n",
       "      <td>nucleus accumbens</td>\n",
       "      <td>0.742188</td>\n",
       "    </tr>\n",
       "    <tr>\n",
       "      <td rowspan=\"5\" valign=\"top\">15697</td>\n",
       "      <td>VI</td>\n",
       "      <td>0.800363</td>\n",
       "    </tr>\n",
       "    <tr>\n",
       "      <td>olfactory tubercle</td>\n",
       "      <td>0.793960</td>\n",
       "    </tr>\n",
       "    <tr>\n",
       "      <td>IV, lateral hemisphere</td>\n",
       "      <td>0.778010</td>\n",
       "    </tr>\n",
       "    <tr>\n",
       "      <td>III, paravermis</td>\n",
       "      <td>0.775793</td>\n",
       "    </tr>\n",
       "    <tr>\n",
       "      <td>III, lateral hemisphere</td>\n",
       "      <td>0.770805</td>\n",
       "    </tr>\n",
       "    <tr>\n",
       "      <td rowspan=\"5\" valign=\"top\">9861</td>\n",
       "      <td>globus pallidus, internal segment</td>\n",
       "      <td>0.844953</td>\n",
       "    </tr>\n",
       "    <tr>\n",
       "      <td>subcallosal cingulate gyrus</td>\n",
       "      <td>0.841221</td>\n",
       "    </tr>\n",
       "    <tr>\n",
       "      <td>substantia innominata</td>\n",
       "      <td>0.828197</td>\n",
       "    </tr>\n",
       "    <tr>\n",
       "      <td>globus pallidus, external segment</td>\n",
       "      <td>0.825506</td>\n",
       "    </tr>\n",
       "    <tr>\n",
       "      <td>substantia nigra, pars reticulata</td>\n",
       "      <td>0.794480</td>\n",
       "    </tr>\n",
       "  </tbody>\n",
       "</table>\n",
       "</div>"
      ],
      "text/plain": [
       "                                                           srp_AUC\n",
       "donor brain_structure                                             \n",
       "10021 globus pallidus, internal segment                   0.816636\n",
       "      nucleus accumbens                                   0.807766\n",
       "      globus pallidus, external segment                   0.805614\n",
       "      central gray of the pons                            0.798475\n",
       "      amygdalohippocampal transition zone                 0.780361\n",
       "12876 subcallosal cingulate gyrus                         0.856285\n",
       "      inferior temporal gyrus, lateral bank of gyrus      0.839341\n",
       "      globus pallidus, external segment                   0.819633\n",
       "      cingulate gyrus, frontal part, inferior bank of...  0.812955\n",
       "      frontal operculum                                   0.761664\n",
       "14380 IV, lateral hemisphere                              0.817317\n",
       "      parahippocampal gyrus, lateral bank of gyrus        0.784470\n",
       "      globus pallidus, internal segment                   0.774372\n",
       "      X, lateral hemisphere                               0.763619\n",
       "      olfactory tubercle                                  0.761251\n",
       "15496 substantia nigra, pars reticulata                   0.765551\n",
       "      medial parabrachial nucleus                         0.763989\n",
       "      VIIIB, paravermis                                   0.750075\n",
       "      globus pallidus, external segment                   0.744207\n",
       "      nucleus accumbens                                   0.742188\n",
       "15697 VI                                                  0.800363\n",
       "      olfactory tubercle                                  0.793960\n",
       "      IV, lateral hemisphere                              0.778010\n",
       "      III, paravermis                                     0.775793\n",
       "      III, lateral hemisphere                             0.770805\n",
       "9861  globus pallidus, internal segment                   0.844953\n",
       "      subcallosal cingulate gyrus                         0.841221\n",
       "      substantia innominata                               0.828197\n",
       "      globus pallidus, external segment                   0.825506\n",
       "      substantia nigra, pars reticulata                   0.794480"
      ]
     },
     "execution_count": 20,
     "metadata": {},
     "output_type": "execute_result"
    }
   ],
   "source": [
    "srp_table.set_index('brain_structure').groupby('donor').apply(lambda x: x.nlargest(5, 'srp_AUC')).drop('donor', axis=1)"
   ]
  },
  {
   "cell_type": "markdown",
   "metadata": {},
   "source": [
    "### Combine SRP and CHAT enrichment data together and save as output for figure to be made with ggplot"
   ]
  },
  {
   "cell_type": "code",
   "execution_count": 21,
   "metadata": {},
   "outputs": [],
   "source": [
    "enrichment_table = pg_pd_table.merge(srp_table, on=['brain_structure', 'donor'])"
   ]
  },
  {
   "cell_type": "code",
   "execution_count": 22,
   "metadata": {},
   "outputs": [],
   "source": [
    "enrichment_table = chat_table.merge(enrichment_table, on=['brain_structure', 'donor'])"
   ]
  },
  {
   "cell_type": "code",
   "execution_count": 23,
   "metadata": {},
   "outputs": [],
   "source": [
    "enrichment_table = enrichment_table.merge(avp_table, on=['brain_structure', 'donor'])"
   ]
  },
  {
   "cell_type": "code",
   "execution_count": 24,
   "metadata": {},
   "outputs": [],
   "source": [
    "enrichment_table = enrichment_table.loc[:, ['brain_structure', 'donor', 'srp_AUC', 'pg_pd_AUC', 'CHAT', 'AVP']]"
   ]
  },
  {
   "cell_type": "code",
   "execution_count": 25,
   "metadata": {},
   "outputs": [],
   "source": [
    "enrichment_table.to_csv('./data/processed_HBA/srp_pgpd_chat_avp_enrichment_table.csv',index=None)"
   ]
  }
 ],
 "metadata": {
  "kernelspec": {
   "display_name": "Python 3",
   "language": "python",
   "name": "python3"
  },
  "language_info": {
   "codemirror_mode": {
    "name": "ipython",
    "version": 3
   },
   "file_extension": ".py",
   "mimetype": "text/x-python",
   "name": "python",
   "nbconvert_exporter": "python",
   "pygments_lexer": "ipython3",
   "version": "3.7.3"
  }
 },
 "nbformat": 4,
 "nbformat_minor": 2
}
