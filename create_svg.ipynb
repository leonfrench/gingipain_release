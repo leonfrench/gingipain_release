{
 "cells": [
  {
   "cell_type": "code",
   "execution_count": 1,
   "metadata": {},
   "outputs": [],
   "source": [
    "from pathlib import Path\n",
    "import pandas as pd\n",
    "import data_processing as data\n",
    "import analysis\n",
    "import svg_utils"
   ]
  },
  {
   "cell_type": "code",
   "execution_count": 2,
   "metadata": {},
   "outputs": [],
   "source": [
    "# define the SVGs files you want to modify\n",
    "human_diagram = 'human_diagram.svg'\n",
    "\n",
    "# input directories\n",
    "svg_dir = Path('./data/svg')\n",
    "\n",
    "# define output directory\n",
    "figures_dir = Path('./figures')\n",
    "figures_dir.mkdir(exist_ok=True)\n",
    "\n",
    "SRP_fig = figures_dir / 'SRP_ER_translocation'\n",
    "PG_PD_fig = figures_dir / 'PG_PD'\n",
    "SRP_fig.mkdir(exist_ok=True)\n",
    "PG_PD_fig.mkdir(exist_ok=True)"
   ]
  },
  {
   "cell_type": "code",
   "execution_count": 3,
   "metadata": {},
   "outputs": [
    {
     "name": "stdout",
     "output_type": "stream",
     "text": [
      "Processed HBA brain dataset found locally. Loading from data/processed_HBA/adult_brainarea_vs_genes_exp_default_donors_10021-9861-14380-15697-15496-12876.tsv\n",
      "Number of SRP genes: 92\n",
      "Number of genes from from diff exp of Pg infected tissue: 942\n"
     ]
    }
   ],
   "source": [
    "all_donors = data.get_dataset(dataset='adult')\n",
    "\n",
    "srp_genes = pd.read_csv('./data/gene_lists/SRP_list.txt', header=None, names=['gene_symbol'])\n",
    "srp_genes = srp_genes.loc[:, 'gene_symbol']\n",
    "print(f'Number of SRP genes: {srp_genes.shape[0]}')\n",
    "\n",
    "pg_pd_genes = pd.read_csv('./results/Supplement Table 4 -genewise_pg_pd_controls.descriptions.csv')\n",
    "pg_pd_genes = pg_pd_genes[(pg_pd_genes['p.adjust'] <= 0.05) & (pg_pd_genes['signed_log_p'] > 0)].gene_symbol\n",
    "print(f'Number of genes from from diff exp of Pg infected tissue: {pg_pd_genes.shape[0]}')"
   ]
  },
  {
   "cell_type": "code",
   "execution_count": 4,
   "metadata": {},
   "outputs": [
    {
     "name": "stdout",
     "output_type": "stream",
     "text": [
      "You submitted a gene list with 92 genes.\n",
      "    90 of those genes are present in the reference dataset.\n",
      "    Genes not found in our reference data: ['RPL41' 'RPL18A']\n",
      "You submitted a gene list with 942 genes.\n",
      "    933 of those genes are present in the reference dataset.\n",
      "    Genes not found in our reference data: ['FKBP1C' 'PRG4' 'CBWD2' 'TVP23B' 'CBWD3' 'ZNF487' 'BLOC1S5-TXNDC5'\n",
      " 'FPGT-TNNI3K' 'PPP5D1']\n"
     ]
    }
   ],
   "source": [
    "# create tables to match AUC values to structures\n",
    "adult_lookup_srp = svg_utils.create_auc_lookup(exp_df=all_donors, gene_list=srp_genes, ontology='adult')\n",
    "adult_lookup_pg_pd = svg_utils.create_auc_lookup(exp_df=all_donors, gene_list=pg_pd_genes, ontology='adult')"
   ]
  },
  {
   "cell_type": "code",
   "execution_count": 5,
   "metadata": {},
   "outputs": [
    {
     "name": "stdout",
     "output_type": "stream",
     "text": [
      "Writing modified svg to figures/SRP_ER_translocation/human_diagram.svg\n",
      "Writing modified svg to figures/PG_PD/human_diagram.svg\n"
     ]
    }
   ],
   "source": [
    "# modify the human diagram SVG based on enrichment scores for SRP and PG_PD genes\n",
    "svg_utils.modify_svg(svg_dir / human_diagram, SRP_fig / human_diagram, graph_id='adult', lookup_table=adult_lookup_srp)\n",
    "svg_utils.modify_svg(svg_dir / human_diagram, PG_PD_fig / human_diagram, graph_id='adult', lookup_table=adult_lookup_pg_pd)"
   ]
  },
  {
   "cell_type": "markdown",
   "metadata": {},
   "source": [
    "### Create cbar for each separate svg/set of genes"
   ]
  },
  {
   "cell_type": "code",
   "execution_count": 6,
   "metadata": {},
   "outputs": [],
   "source": [
    "# graph_id == 'adult'\n",
    "ontology = svg_utils.get_ontology(json_file='./data/ontology.json', atlas_id=265297125, graph_id=10)"
   ]
  },
  {
   "cell_type": "code",
   "execution_count": 7,
   "metadata": {},
   "outputs": [],
   "source": [
    "svg_sIDs = svg_utils.get_sIDs_in_SVG(svg_dir / human_diagram, ontology)"
   ]
  },
  {
   "cell_type": "code",
   "execution_count": 14,
   "metadata": {},
   "outputs": [],
   "source": [
    "sID_auc_map_srp = svg_utils.get_AUC_vals_for_sIDs(svg_sIDs.keys(), ontology, adult_lookup_srp)\n",
    "sID_auc_map_pgpd = svg_utils.get_AUC_vals_for_sIDs(svg_sIDs.keys(), ontology, adult_lookup_pg_pd)"
   ]
  },
  {
   "cell_type": "code",
   "execution_count": 16,
   "metadata": {},
   "outputs": [
    {
     "data": {
      "image/png": "[encoded data removed]",
      "text/plain": [
       "<Figure size 72x576 with 1 Axes>"
      ]
     },
     "metadata": {
      "needs_background": "light"
     },
     "output_type": "display_data"
    }
   ],
   "source": [
    "sID_hex_map_srp, cbar_srp = svg_utils.convert_AUCvals_to_hex(sID_auc_map_srp, generate_cbar=True)"
   ]
  },
  {
   "cell_type": "code",
   "execution_count": 17,
   "metadata": {},
   "outputs": [
    {
     "data": {
      "image/png": "[encoded data removed]",
      "text/plain": [
       "<Figure size 72x576 with 1 Axes>"
      ]
     },
     "metadata": {
      "needs_background": "light"
     },
     "output_type": "display_data"
    }
   ],
   "source": [
    "sID_hex_map_pg_pd, cbar_pg_pd = svg_utils.convert_AUCvals_to_hex(sID_auc_map_pgpd, generate_cbar=True)"
   ]
  },
  {
   "cell_type": "code",
   "execution_count": null,
   "metadata": {},
   "outputs": [],
   "source": []
  }
 ],
 "metadata": {
  "kernelspec": {
   "display_name": "Python 3",
   "language": "python",
   "name": "python3"
  },
  "language_info": {
   "codemirror_mode": {
    "name": "ipython",
    "version": 3
   },
   "file_extension": ".py",
   "mimetype": "text/x-python",
   "name": "python",
   "nbconvert_exporter": "python",
   "pygments_lexer": "ipython3",
   "version": "3.7.3"
  }
 },
 "nbformat": 4,
 "nbformat_minor": 2
}
